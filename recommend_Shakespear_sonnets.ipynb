{
 "cells": [
  {
   "cell_type": "code",
   "execution_count": 1,
   "metadata": {},
   "outputs": [],
   "source": [
    "#---general purpose libraries--\n",
    "import numpy as np\n",
    "import pandas as pd\n",
    "import os\n",
    "#--for text processing----\n",
    "import nltk\n",
    "from nltk.corpus import stopwords\n",
    "from rake_nltk import Rake\n",
    "from sklearn.feature_extraction.text import CountVectorizer,TfidfVectorizer\n",
    "from sklearn.metrics.pairwise import cosine_similarity\n",
    "import string\n",
    "import re\n",
    "#---for pipelining-----\n",
    "from sklearn.pipeline import Pipeline"
   ]
  },
  {
   "cell_type": "code",
   "execution_count": 2,
   "metadata": {},
   "outputs": [],
   "source": [
    "stopwords = nltk.corpus.stopwords.words('english')\n",
    "#ps = nltk.PorterStemmer()"
   ]
  },
  {
   "cell_type": "code",
   "execution_count": 7,
   "metadata": {},
   "outputs": [],
   "source": [
    "#-----------------------FUNCTIONS--------------------------------#\n",
    "\n",
    "#----------------------------------------------------------------------------\n",
    "#--- function to extract sonnets from the textfile and store in a dataframe--\n",
    "#----------------------------------------------------------------------------\n",
    "def build_sonnet_dataframe(file_name):    \n",
    "    corpus = open(file_name, encoding='utf-8')\n",
    "    lines = corpus.readlines()\n",
    "    sonnets =[]\n",
    "    paragraph = ''\n",
    "    for line in lines:\n",
    "        if line.isspace():\n",
    "            if paragraph:\n",
    "                sonnets.append(paragraph.strip())\n",
    "                paragraph = ''\n",
    "            continue\n",
    "        else:\n",
    "            if line.strip().isnumeric():\n",
    "                continue\n",
    "            else:\n",
    "                paragraph += ' ' + line.strip()\n",
    "    sonnets.remove(sonnets[0]) #--Remove heading---\n",
    "    df = pd.DataFrame(data =sonnets, columns = ['Sonnet'] )\n",
    "    return df\n",
    "\n",
    "#----------------------------------------------------------------------------\n",
    "#--- function to remove punctuation marks from a word--\n",
    "#----------------------------------------------------------------------------\n",
    "def remove_punctuation(word):\n",
    "        punc_free= ''.join(ch for ch in word if ch not in string.punctuation)\n",
    "        return punc_free\n",
    "\n",
    "#----------------------------------------------------------------------------\n",
    "#--- function to clean the corpus--\n",
    "#----------------------------------------------------------------------------\n",
    "def remove_common_n_stopwords(text):\n",
    "    common = ['thy','thou','thee','shall','might']\n",
    "    #Note: instead of using hardcoded common words, we can use 'Part of Speech tags from nltk to remove words like 'might'\n",
    "    #however, for simplicity, I have just hardcoded the common words here.\n",
    "    sen = ''\n",
    "    for word in text.split():\n",
    "        x= remove_punctuation(word)\n",
    "        if x not in stopwords:\n",
    "            if x not in common:\n",
    "                sen+= ' ' + x\n",
    "            else:\n",
    "                continue\n",
    "        else:\n",
    "            continue  \n",
    "    return sen.strip()\n",
    "#--------------------------------------------------------------------------"
   ]
  },
  {
   "cell_type": "markdown",
   "metadata": {},
   "source": [
    "## Gather the data"
   ]
  },
  {
   "cell_type": "code",
   "execution_count": 8,
   "metadata": {},
   "outputs": [
    {
     "name": "stdout",
     "output_type": "stream",
     "text": [
      "Please give the working directory: D:\\Internshala\\Socio\n",
      "Please enter sonnet filename: Shakespeare_Sonnets.txt\n"
     ]
    },
    {
     "data": {
      "text/html": [
       "<div>\n",
       "<style scoped>\n",
       "    .dataframe tbody tr th:only-of-type {\n",
       "        vertical-align: middle;\n",
       "    }\n",
       "\n",
       "    .dataframe tbody tr th {\n",
       "        vertical-align: top;\n",
       "    }\n",
       "\n",
       "    .dataframe thead th {\n",
       "        text-align: right;\n",
       "    }\n",
       "</style>\n",
       "<table border=\"1\" class=\"dataframe\">\n",
       "  <thead>\n",
       "    <tr style=\"text-align: right;\">\n",
       "      <th></th>\n",
       "      <th>Sonnet</th>\n",
       "    </tr>\n",
       "  </thead>\n",
       "  <tbody>\n",
       "    <tr>\n",
       "      <th>0</th>\n",
       "      <td>From fairest creatures we desire increase, Tha...</td>\n",
       "    </tr>\n",
       "    <tr>\n",
       "      <th>1</th>\n",
       "      <td>When forty winters shall besiege thy brow, And...</td>\n",
       "    </tr>\n",
       "    <tr>\n",
       "      <th>2</th>\n",
       "      <td>Look in thy glass and tell the face thou viewe...</td>\n",
       "    </tr>\n",
       "    <tr>\n",
       "      <th>3</th>\n",
       "      <td>Unthrifty loveliness why dost thou spend, Upon...</td>\n",
       "    </tr>\n",
       "    <tr>\n",
       "      <th>4</th>\n",
       "      <td>Those hours that with gentle work did frame Th...</td>\n",
       "    </tr>\n",
       "  </tbody>\n",
       "</table>\n",
       "</div>"
      ],
      "text/plain": [
       "                                              Sonnet\n",
       "0  From fairest creatures we desire increase, Tha...\n",
       "1  When forty winters shall besiege thy brow, And...\n",
       "2  Look in thy glass and tell the face thou viewe...\n",
       "3  Unthrifty loveliness why dost thou spend, Upon...\n",
       "4  Those hours that with gentle work did frame Th..."
      ]
     },
     "execution_count": 8,
     "metadata": {},
     "output_type": "execute_result"
    }
   ],
   "source": [
    "#--- Change working directory(where you have corpus)----# \n",
    "wrk_dir = input(prompt='Please give the working directory: ')\n",
    "os.chdir(wrk_dir)\n",
    "#---- Input filename which contains shakespear's sonnets----\n",
    "file_name = input(prompt='Please enter sonnet filename: ') #Shakespeare_Sonnets.txt\n",
    "#----call function to build the sonnet dataframe\n",
    "df_sonnet = build_sonnet_dataframe(file_name)\n",
    "df_sonnet.head()"
   ]
  },
  {
   "cell_type": "code",
   "execution_count": 9,
   "metadata": {},
   "outputs": [
    {
     "data": {
      "text/plain": [
       "'From fairest creatures we desire increase, That thereby beauty’s rose might never die, But as the riper should by time decease, His tender heir might bear his memory: But thou contracted to thine own bright eyes, Feed’st thy light’s flame with self-substantial fuel, Making a famine where abundance lies, Thy self thy foe, to thy sweet self too cruel: Thou that art now the world’s fresh ornament, And only herald to the gaudy spring, Within thine own bud buriest thy content, And, tender churl, mak’st waste in niggarding: Pity the world, or else this glutton be, To eat the world’s due, by the grave and thee.'"
      ]
     },
     "execution_count": 9,
     "metadata": {},
     "output_type": "execute_result"
    }
   ],
   "source": [
    "df_sonnet['Sonnet'][0]"
   ]
  },
  {
   "cell_type": "markdown",
   "metadata": {},
   "source": [
    "## finding the most important, frequent word in each sonnet. Let it be 'Title'"
   ]
  },
  {
   "cell_type": "code",
   "execution_count": 10,
   "metadata": {},
   "outputs": [],
   "source": [
    "#-----preprocess text data by removing stopwords,punctuation marks\n",
    "df_sonnet['Sonnet_processed'] = df_sonnet['Sonnet'].apply(lambda x: remove_common_n_stopwords(x.lower()))"
   ]
  },
  {
   "cell_type": "code",
   "execution_count": 11,
   "metadata": {},
   "outputs": [],
   "source": [
    "#----function to give the most important, frquent word in a sonnet----\n",
    "def word_frequency_count(vec_obj,txt):\n",
    "    vec = vec_obj.fit(txt)\n",
    "    bag_of_words = vec.transform(txt)\n",
    "    sum_words = bag_of_words.sum(axis=0)\n",
    "    words_freq = [(word, sum_words[0, idx]) for word, idx in     vec.vocabulary_.items()]\n",
    "    words_freq =sorted(words_freq, key = lambda x: x[1], reverse=True)\n",
    "    return words_freq"
   ]
  },
  {
   "cell_type": "code",
   "execution_count": 12,
   "metadata": {},
   "outputs": [
    {
     "data": {
      "text/html": [
       "<div>\n",
       "<style scoped>\n",
       "    .dataframe tbody tr th:only-of-type {\n",
       "        vertical-align: middle;\n",
       "    }\n",
       "\n",
       "    .dataframe tbody tr th {\n",
       "        vertical-align: top;\n",
       "    }\n",
       "\n",
       "    .dataframe thead th {\n",
       "        text-align: right;\n",
       "    }\n",
       "</style>\n",
       "<table border=\"1\" class=\"dataframe\">\n",
       "  <thead>\n",
       "    <tr style=\"text-align: right;\">\n",
       "      <th></th>\n",
       "      <th>Sonnet</th>\n",
       "      <th>Title</th>\n",
       "    </tr>\n",
       "  </thead>\n",
       "  <tbody>\n",
       "    <tr>\n",
       "      <th>0</th>\n",
       "      <td>From fairest creatures we desire increase, Tha...</td>\n",
       "      <td>WORLD</td>\n",
       "    </tr>\n",
       "    <tr>\n",
       "      <th>1</th>\n",
       "      <td>When forty winters shall besiege thy brow, And...</td>\n",
       "      <td>BEAUTY</td>\n",
       "    </tr>\n",
       "    <tr>\n",
       "      <th>2</th>\n",
       "      <td>Look in thy glass and tell the face thou viewe...</td>\n",
       "      <td>GLASS</td>\n",
       "    </tr>\n",
       "    <tr>\n",
       "      <th>3</th>\n",
       "      <td>Unthrifty loveliness why dost thou spend, Upon...</td>\n",
       "      <td>DOST</td>\n",
       "    </tr>\n",
       "    <tr>\n",
       "      <th>4</th>\n",
       "      <td>Those hours that with gentle work did frame Th...</td>\n",
       "      <td>BEAUTY</td>\n",
       "    </tr>\n",
       "  </tbody>\n",
       "</table>\n",
       "</div>"
      ],
      "text/plain": [
       "                                              Sonnet   Title\n",
       "0  From fairest creatures we desire increase, Tha...   WORLD\n",
       "1  When forty winters shall besiege thy brow, And...  BEAUTY\n",
       "2  Look in thy glass and tell the face thou viewe...   GLASS\n",
       "3  Unthrifty loveliness why dost thou spend, Upon...    DOST\n",
       "4  Those hours that with gentle work did frame Th...  BEAUTY"
      ]
     },
     "execution_count": 12,
     "metadata": {},
     "output_type": "execute_result"
    }
   ],
   "source": [
    "#-----call function word_frequency_count() for all the sonnets and store the result in 'Title' column\n",
    "df_sonnet['Title']=''\n",
    "for index, row in df_sonnet.iterrows():\n",
    "    words_freq=word_frequency_count(TfidfVectorizer(),row['Sonnet_processed'].split())\n",
    "    #print(words_freq[0][0].upper())\n",
    "    row['Title']=words_freq[0][0].upper()\n",
    "df_sonnet.drop(columns=['Sonnet_processed'],inplace=True)\n",
    "df_sonnet.head()"
   ]
  },
  {
   "cell_type": "markdown",
   "metadata": {},
   "source": [
    "## building sonnet recommender system "
   ]
  },
  {
   "cell_type": "code",
   "execution_count": 13,
   "metadata": {},
   "outputs": [],
   "source": [
    "#---extracting keywords from all the sonnets in the dataframe\n",
    "#--------------------------------------------------------------\n",
    "df_sonnet['Keywords'] =''\n",
    "for index, row in df_sonnet.iterrows():\n",
    "    sonnet = row['Sonnet']    \n",
    "    #instantiate rake. This will remove all english stopwords and punctuation marks\n",
    "    #--This could have been done using 'Sonnet_processed' column calculate above. \n",
    "    #--However, I found better results by using Rake(). It also de-duplicates words\n",
    "    rk= Rake()\n",
    "    rk.extract_keywords_from_text(sonnet)\n",
    "    keywords_scores = rk.get_word_degrees()  \n",
    "    # assigning the keywords to the new column for the corresponding sonnet\n",
    "    Keywords= list(keywords_scores.keys())\n",
    "    kywrd_clubbed=''\n",
    "    for words in Keywords:\n",
    "        kywrd_clubbed = kywrd_clubbed + ''.join(words)+ ' '\n",
    "    row['Keywords'] = kywrd_clubbed\n",
    "#-----------------------------------------------------------"
   ]
  },
  {
   "cell_type": "code",
   "execution_count": 14,
   "metadata": {
    "scrolled": true
   },
   "outputs": [],
   "source": [
    "#-----generate the count matrix---------\n",
    "vec= CountVectorizer()\n",
    "vec_matx=vec.fit_transform(df_sonnet['Keywords'])\n",
    "\n",
    "#----- generating the cosine similarity matrix\n",
    "cosine_sim = cosine_similarity(vec_matx, vec_matx)"
   ]
  },
  {
   "cell_type": "code",
   "execution_count": 25,
   "metadata": {},
   "outputs": [],
   "source": [
    "#-- function to recommend 'n' number of sonnets based on an input sonnet\n",
    "def sonnet_recommendation(choice,snt,n):\n",
    "    if choice == '1':\n",
    "        indx=pd.to_numeric(choice)-1\n",
    "    else:\n",
    "        indx = df_sonnet[df_sonnet['Sonnet']==snt].index[0]\n",
    "    recmnd_indx = list(pd.Series(cosine_sim[indx]).sort_values(ascending = False).index[:n])\n",
    "    sonnet_recommendation = []\n",
    "    print('Your recommended Shakespear sonnets are: ')\n",
    "    for i in recmnd_indx:\n",
    "        sonnet_recommendation.append(df_sonnet[df_sonnet['Sonnet'].index == i]['Sonnet'])\n",
    "        print(df_sonnet[df_sonnet['Sonnet'].index == i]['Sonnet'])"
   ]
  },
  {
   "cell_type": "code",
   "execution_count": 121,
   "metadata": {},
   "outputs": [],
   "source": [
    "#snt = '''From fairest creatures we desire increase, That thereby beautyâ€™s rose might never die, But as the riper should by time decease, His tender heir might bear his memory: But thou contracted to thine own bright eyes, Feedâ€™st thy lightâ€™s flame with self-substantial fuel, Making a famine where abundance lies, Thy self thy foe, to thy sweet self too cruel: Thou that art now the worldâ€™s fresh ornament, And only herald to the gaudy spring, Within thine own bud buriest thy content, And, tender churl, makâ€™st waste in niggarding: Pity the world, or else this glutton be, To eat the worldâ€™s due, by the grave and thee.'''"
   ]
  },
  {
   "cell_type": "code",
   "execution_count": 26,
   "metadata": {},
   "outputs": [
    {
     "name": "stdout",
     "output_type": "stream",
     "text": [
      "Please enter the choice of selection: \n",
      "            Enter 1 for using sonnet number as input.\n",
      "            Enter 2 for using sonnet text as input\n",
      "            1\n",
      "Please sonnet number from the list: 1\n",
      "Your recommended Shakespear sonnets are: \n",
      "0    From fairest creatures we desire increase, Tha...\n",
      "Name: Sonnet, dtype: object\n",
      "21    My glass shall not persuade me I am old, So lo...\n",
      "Name: Sonnet, dtype: object\n",
      "139    Be wise as thou art cruel, do not press My ton...\n",
      "Name: Sonnet, dtype: object\n",
      "2    Look in thy glass and tell the face thou viewe...\n",
      "Name: Sonnet, dtype: object\n",
      "9    For shame deny that thou bear’st love to any W...\n",
      "Name: Sonnet, dtype: object\n"
     ]
    }
   ],
   "source": [
    "#--- Ask the input from the user----\n",
    "#num_of_rec = input('Please enter the number of recommendations you want(number between 1- 10): ')\n",
    "choice = input('''Please enter the choice of selection: \n",
    "            Enter 1 for using sonnet number as input.\n",
    "            Enter 2 for using sonnet text as input\n",
    "            ''')\n",
    "if choice not in ['1','2']:\n",
    "    print(' Invalid Selection') \n",
    "else:\n",
    "    if choice == '1':\n",
    "        snt=input('''Please sonnet number from the list: ''')\n",
    "    else:\n",
    "        snt=input('''Please sonnet text: ''')\n",
    "#----The result will be 5(this number can be configurable too) recommended sonnets which are most similar to the input.\n",
    "sonnet_recommendation(choice,snt,5)"
   ]
  }
 ],
 "metadata": {
  "kernelspec": {
   "display_name": "Python 3",
   "language": "python",
   "name": "python3"
  },
  "language_info": {
   "codemirror_mode": {
    "name": "ipython",
    "version": 3
   },
   "file_extension": ".py",
   "mimetype": "text/x-python",
   "name": "python",
   "nbconvert_exporter": "python",
   "pygments_lexer": "ipython3",
   "version": "3.6.5"
  }
 },
 "nbformat": 4,
 "nbformat_minor": 2
}
